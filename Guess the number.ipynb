{
 "cells": [
  {
   "cell_type": "markdown",
   "metadata": {},
   "source": [
    "# Guess the number"
   ]
  },
  {
   "cell_type": "code",
   "execution_count": null,
   "metadata": {},
   "outputs": [],
   "source": [
    "import random\n",
    "\n",
    "def guess_num():\n",
    "    com_number=random.randint(1,999)\n",
    "    print(\"Please enter any 3 digit number:\")\n",
    "    user_input=int(input())\n",
    "    while True:\n",
    "        if com_number==user_input:\n",
    "            print(\"Congratulation you are guessed the correct one!\")\n",
    "            break\n",
    "        elif com_number<user_input:\n",
    "            print(\"You entered too high! Guess again!\")\n",
    "            print(\"Please enter any 3 digit number:\")\n",
    "            user_input=int(input())\n",
    "        elif com_number>user_input:\n",
    "            print(\"You entered too low! Guess again!\")\n",
    "            print(\"Please enter any 3 digit number:\")\n",
    "            user_input=int(input())\n",
    "            \n",
    "guess_num()   "
   ]
  }
 ],
 "metadata": {
  "kernelspec": {
   "display_name": "Python 3",
   "language": "python",
   "name": "python3"
  },
  "language_info": {
   "codemirror_mode": {
    "name": "ipython",
    "version": 3
   },
   "file_extension": ".py",
   "mimetype": "text/x-python",
   "name": "python",
   "nbconvert_exporter": "python",
   "pygments_lexer": "ipython3",
   "version": "3.8.5"
  }
 },
 "nbformat": 4,
 "nbformat_minor": 4
}
